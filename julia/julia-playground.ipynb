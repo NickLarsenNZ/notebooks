{
 "cells": [
  {
   "cell_type": "code",
   "execution_count": null,
   "metadata": {},
   "outputs": [],
   "source": [
    "!pwd"
   ]
  },
  {
   "cell_type": "markdown",
   "metadata": {},
   "source": [
    "## Julia Play\n",
    "https://juliabyexample.helpmanual.io\n",
    "\n",
    "Using nicklarsennz/jupyter-julia:latest"
   ]
  },
  {
   "cell_type": "code",
   "execution_count": 1,
   "metadata": {},
   "outputs": [
    {
     "name": "stdout",
     "output_type": "stream",
     "text": [
      "Hello World\n"
     ]
    }
   ],
   "source": [
    "println(\"Hello World\")"
   ]
  },
  {
   "cell_type": "markdown",
   "metadata": {},
   "source": [
    "## Simple function"
   ]
  },
  {
   "cell_type": "code",
   "execution_count": 2,
   "metadata": {},
   "outputs": [],
   "source": [
    "function double(n::Int64)\n",
    "    return 2*n\n",
    "end\n",
    "\n",
    "@assert double(5) == 10"
   ]
  },
  {
   "cell_type": "markdown",
   "metadata": {},
   "source": [
    "## Recursion"
   ]
  },
  {
   "cell_type": "code",
   "execution_count": 3,
   "metadata": {},
   "outputs": [],
   "source": [
    "function fact(n::Int)\n",
    "    (n == 0 || n == 1) && return 1\n",
    "    return n * fact(n - 1)\n",
    "end\n",
    "\n",
    "@assert fact(4) == 24"
   ]
  },
  {
   "cell_type": "markdown",
   "metadata": {},
   "source": [
    "## Structures"
   ]
  },
  {
   "cell_type": "code",
   "execution_count": 4,
   "metadata": {},
   "outputs": [
    {
     "data": {
      "text/plain": [
       "User(\"bob\", true)"
      ]
     },
     "execution_count": 4,
     "metadata": {},
     "output_type": "execute_result"
    }
   ],
   "source": [
    "mutable struct User\n",
    "    username::AbstractString\n",
    "    verified::Bool\n",
    "    User() = new()\n",
    "    User(u::AbstractString) = new(u, false)\n",
    "    User(u::AbstractString, v::Bool) = new(u, v)\n",
    "end\n",
    "\n",
    "user1 = User(\"user1\", false)\n",
    "user2 = User()\n",
    "user2.username = \"bob\"\n",
    "#setfield!(user2, :username, \"bob\")\n",
    "#setfield!(user2, :verified, true)\n",
    "user2"
   ]
  },
  {
   "cell_type": "markdown",
   "metadata": {},
   "source": [
    "## Metaprogramming"
   ]
  },
  {
   "cell_type": "code",
   "execution_count": 5,
   "metadata": {},
   "outputs": [],
   "source": [
    "macro is_even(n::Int64)\n",
    "    return n % 2 == 0\n",
    "end\n",
    "\n",
    "macro is_odd(n::Int64)\n",
    "    return n % 2 == 1\n",
    "end\n",
    "\n",
    "@assert @is_even(42)\n",
    "@assert @is_odd(15)\n",
    "@assert !@is_even(3)\n",
    "@assert !@is_odd(10)"
   ]
  },
  {
   "cell_type": "markdown",
   "metadata": {},
   "source": [
    "## Anonymous functions and Piping"
   ]
  },
  {
   "cell_type": "code",
   "execution_count": 6,
   "metadata": {},
   "outputs": [],
   "source": [
    "n = [0:5;] .|> x -> 2*x |> x -> x-1\n",
    "\n",
    "@assert last(n) == 9"
   ]
  },
  {
   "cell_type": "markdown",
   "metadata": {},
   "source": [
    "## Currying"
   ]
  },
  {
   "cell_type": "code",
   "execution_count": 7,
   "metadata": {},
   "outputs": [],
   "source": [
    "adder = x -> y -> x + y\n",
    "\n",
    "@assert adder(3)(4) == 7"
   ]
  },
  {
   "cell_type": "markdown",
   "metadata": {},
   "source": [
    "## Map and Filter"
   ]
  },
  {
   "cell_type": "code",
   "execution_count": 2,
   "metadata": {},
   "outputs": [
    {
     "data": {
      "text/plain": [
       "4-element Array{Int64,1}:\n",
       "  16\n",
       "  36\n",
       "  64\n",
       " 100"
      ]
     },
     "execution_count": 2,
     "metadata": {},
     "output_type": "execute_result"
    }
   ],
   "source": [
    "double = x -> 2*x\n",
    "sqr = x -> x*x\n",
    "\n",
    "answer = map(sqr, map(double, [2,3,4,5]))"
   ]
  },
  {
   "cell_type": "code",
   "execution_count": 20,
   "metadata": {},
   "outputs": [
    {
     "data": {
      "text/plain": [
       "4-element Array{Int64,1}:\n",
       "  16\n",
       "  36\n",
       "  64\n",
       " 100"
      ]
     },
     "execution_count": 20,
     "metadata": {},
     "output_type": "execute_result"
    }
   ],
   "source": [
    "[2,3,4,5] |> double .|> sqr"
   ]
  },
  {
   "cell_type": "code",
   "execution_count": 22,
   "metadata": {},
   "outputs": [
    {
     "data": {
      "text/plain": [
       "4-element Array{Int64,1}:\n",
       "  16\n",
       "  36\n",
       "  64\n",
       " 100"
      ]
     },
     "execution_count": 22,
     "metadata": {},
     "output_type": "execute_result"
    }
   ],
   "source": [
    "(\n",
    "    [2,3,4,5] \n",
    "         |> double # No dot before pipe since we're being piped a vector\n",
    "        .|> sqr    # We must use .|> here because double is returning scalars (performance improvement)\n",
    ")"
   ]
  },
  {
   "cell_type": "markdown",
   "metadata": {},
   "source": [
    "## Dot application\n",
    "_Apply a function to a list_"
   ]
  },
  {
   "cell_type": "code",
   "execution_count": 7,
   "metadata": {},
   "outputs": [],
   "source": [
    "f = 3.14\n",
    "@assert sin.(f) == sin(f)"
   ]
  },
  {
   "cell_type": "code",
   "execution_count": 12,
   "metadata": {},
   "outputs": [
    {
     "data": {
      "text/plain": [
       "4-element Array{Int64,1}:\n",
       "  16\n",
       "  36\n",
       "  64\n",
       " 100"
      ]
     },
     "execution_count": 12,
     "metadata": {},
     "output_type": "execute_result"
    }
   ],
   "source": [
    "sqr.(double.([2,3,4,5]))"
   ]
  },
  {
   "cell_type": "code",
   "execution_count": 19,
   "metadata": {},
   "outputs": [],
   "source": [
    "numbers = [1,2,3,4]\n",
    "sins = map(x -> sin(x), numbers)\n",
    "zinz = sin.(numbers)\n",
    "\n",
    "@assert sins == zinz"
   ]
  },
  {
   "cell_type": "markdown",
   "metadata": {},
   "source": [
    "## Dictionary / Map data structure"
   ]
  },
  {
   "cell_type": "code",
   "execution_count": 30,
   "metadata": {},
   "outputs": [
    {
     "data": {
      "text/plain": [
       "Dict{Int64,AbstractString} with 1 entry:\n",
       "  1 => \"blah\""
      ]
     },
     "execution_count": 30,
     "metadata": {},
     "output_type": "execute_result"
    }
   ],
   "source": [
    "things = Dict{Int, AbstractString}()\n",
    "\n",
    "things[1] = \"blah\"\n",
    "things"
   ]
  },
  {
   "cell_type": "markdown",
   "metadata": {},
   "source": [
    "## For loops\n",
    "\n",
    "In place of `∈` you can use the `in` keyword"
   ]
  },
  {
   "cell_type": "code",
   "execution_count": 19,
   "metadata": {},
   "outputs": [
    {
     "name": "stdout",
     "output_type": "stream",
     "text": [
      "a1, a2, a3, a4, \n",
      "b1, b2, b3, b4, \n",
      "c1, c2, c3, c4, \n",
      "d1, d2, d3, d4, \n"
     ]
    }
   ],
   "source": [
    "alpha = [\"a\", \"b\", \"c\", \"d\"]\n",
    "num = [1, 2, 3, 4]\n",
    "\n",
    "for i ∈ alpha\n",
    "    for j ∈ num\n",
    "        print(\"$i$j, \")\n",
    "    end\n",
    "    println()\n",
    "end"
   ]
  }
 ],
 "metadata": {
  "kernelspec": {
   "display_name": "Julia 1.2.0",
   "language": "julia",
   "name": "julia-1.2"
  },
  "language_info": {
   "file_extension": ".jl",
   "mimetype": "application/julia",
   "name": "julia",
   "version": "1.2.0"
  }
 },
 "nbformat": 4,
 "nbformat_minor": 4
}
