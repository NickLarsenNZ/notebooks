{
 "cells": [
  {
   "cell_type": "markdown",
   "metadata": {},
   "source": [
    "## Julia Play\n",
    "https://juliabyexample.helpmanual.io\n",
    "\n",
    "Using nicklarsennz/jupyter-julia:latest"
   ]
  },
  {
   "cell_type": "code",
   "execution_count": 1,
   "metadata": {},
   "outputs": [
    {
     "name": "stdout",
     "output_type": "stream",
     "text": [
      "Hello World\n"
     ]
    }
   ],
   "source": [
    "println(\"Hello World\")"
   ]
  },
  {
   "cell_type": "markdown",
   "metadata": {},
   "source": [
    "## Simple function"
   ]
  },
  {
   "cell_type": "code",
   "execution_count": 13,
   "metadata": {},
   "outputs": [],
   "source": [
    "function double(n::Int64)\n",
    "    return 2*n\n",
    "end\n",
    "\n",
    "@assert double(5) == 10"
   ]
  },
  {
   "cell_type": "markdown",
   "metadata": {},
   "source": [
    "## Recursion"
   ]
  },
  {
   "cell_type": "code",
   "execution_count": 14,
   "metadata": {},
   "outputs": [],
   "source": [
    "function fact(n::Int)\n",
    "    (n == 0 || n == 1) && return 1\n",
    "    return n * fact(n - 1)\n",
    "end\n",
    "\n",
    "@assert fact(4) == 24"
   ]
  },
  {
   "cell_type": "markdown",
   "metadata": {},
   "source": [
    "## Structures"
   ]
  },
  {
   "cell_type": "code",
   "execution_count": 9,
   "metadata": {},
   "outputs": [
    {
     "data": {
      "text/plain": [
       "User(\"bob\", false)"
      ]
     },
     "execution_count": 9,
     "metadata": {},
     "output_type": "execute_result"
    }
   ],
   "source": [
    "mutable struct User\n",
    "    username::AbstractString\n",
    "    verified::Bool\n",
    "    User() = new()\n",
    "    User(u::AbstractString) = new(u, false)\n",
    "    User(u::AbstractString, v::Bool) = new(u, v)\n",
    "end\n",
    "\n",
    "user1 = User(\"user1\", false)\n",
    "user2 = User()\n",
    "user2.username = \"bob\"\n",
    "#setfield!(user2, :username, \"bob\")\n",
    "#setfield!(user2, :verified, true)\n",
    "user2"
   ]
  },
  {
   "cell_type": "markdown",
   "metadata": {},
   "source": [
    "## Metaprogramming"
   ]
  },
  {
   "cell_type": "code",
   "execution_count": null,
   "metadata": {},
   "outputs": [],
   "source": [
    "macro is_even(n::Int64)\n",
    "    return n % 2 == 0\n",
    "end\n",
    "\n",
    "macro is_odd(n::Int64)\n",
    "    return n % 2 == 1\n",
    "end\n",
    "\n",
    "@assert @is_even(42)\n",
    "@assert @is_odd(15)\n",
    "@assert !@is_even(3)\n",
    "@assert !@is_odd(10)"
   ]
  },
  {
   "cell_type": "markdown",
   "metadata": {},
   "source": [
    "## Anonymous functions and Piping"
   ]
  },
  {
   "cell_type": "code",
   "execution_count": 1,
   "metadata": {},
   "outputs": [],
   "source": [
    "n = [0:5;] .|> x -> 2*x |> x -> x-1\n",
    "\n",
    "@assert last(n) == 9"
   ]
  },
  {
   "cell_type": "markdown",
   "metadata": {},
   "source": [
    "## Currying"
   ]
  },
  {
   "cell_type": "code",
   "execution_count": 2,
   "metadata": {},
   "outputs": [],
   "source": [
    "adder = x -> y -> x + y\n",
    "\n",
    "@assert adder(3)(4) == 7"
   ]
  },
  {
   "cell_type": "code",
   "execution_count": null,
   "metadata": {},
   "outputs": [],
   "source": []
  }
 ],
 "metadata": {
  "kernelspec": {
   "display_name": "Julia 1.2.0",
   "language": "julia",
   "name": "julia-1.2"
  },
  "language_info": {
   "file_extension": ".jl",
   "mimetype": "application/julia",
   "name": "julia",
   "version": "1.2.0"
  }
 },
 "nbformat": 4,
 "nbformat_minor": 4
}
