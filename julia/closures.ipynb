{
 "cells": [
  {
   "cell_type": "markdown",
   "metadata": {},
   "source": [
    "# Closures in Julia\n",
    "\n",
    "Many languages support closures. Today I needed to run part of my program for up to an hour.\n",
    "Instead of putting the timer in the same block of code, I wanted to separate the responsibility. Closures seemed like a good idea.\n",
    "\n",
    "## Dummy closure\n"
   ]
  },
  {
   "cell_type": "code",
   "execution_count": 8,
   "metadata": {},
   "outputs": [
    {
     "data": {
      "text/plain": [
       "withDummy (generic function with 1 method)"
      ]
     },
     "execution_count": 8,
     "metadata": {},
     "output_type": "execute_result"
    }
   ],
   "source": [
    "function withDummy(func::Function)\n",
    "    println(\"[DEBUG] Before\")\n",
    "    func()\n",
    "    println(\"[DEBUG] After\")\n",
    "end"
   ]
  },
  {
   "cell_type": "code",
   "execution_count": 9,
   "metadata": {},
   "outputs": [
    {
     "name": "stdout",
     "output_type": "stream",
     "text": [
      "[DEBUG] Before\n",
      "Hi\n",
      "[DEBUG] After\n"
     ]
    }
   ],
   "source": [
    "withDummy() do\n",
    "    println(\"Hi\")\n",
    "end"
   ]
  },
  {
   "cell_type": "markdown",
   "metadata": {},
   "source": [
    "## Conclusion:\n",
    "\n",
    "Great. This works like I wanted. Now I'm going to work on the concurrent timer thing"
   ]
  }
 ],
 "metadata": {
  "kernelspec": {
   "display_name": "Julia 1.2.0",
   "language": "julia",
   "name": "julia-1.2"
  },
  "language_info": {
   "file_extension": ".jl",
   "mimetype": "application/julia",
   "name": "julia",
   "version": "1.2.0"
  }
 },
 "nbformat": 4,
 "nbformat_minor": 4
}
