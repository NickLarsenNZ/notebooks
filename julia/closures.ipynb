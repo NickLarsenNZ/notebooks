{
 "cells": [
  {
   "cell_type": "markdown",
   "metadata": {},
   "source": [
    "# Closures in Julia\n",
    "\n",
    "Many languages support closures. Today I needed to run part of my program for up to an hour.\n",
    "Instead of putting the timer in the same block of code, I wanted to separate the responsibility. Closures seemed like a good idea.\n",
    "\n",
    "## Dummy closure\n"
   ]
  },
  {
   "cell_type": "code",
   "execution_count": null,
   "metadata": {},
   "outputs": [],
   "source": [
    "function withDummy(func::Function)\n",
    "    println(\"[DEBUG] Before\")\n",
    "    func()\n",
    "    println(\"[DEBUG] After\")\n",
    "end"
   ]
  },
  {
   "cell_type": "code",
   "execution_count": 2,
   "metadata": {},
   "outputs": [
    {
     "name": "stdout",
     "output_type": "stream",
     "text": [
      "[DEBUG] Before\n",
      "Hi\n",
      "[DEBUG] After\n"
     ]
    }
   ],
   "source": [
    "withDummy() do\n",
    "    println(\"Hi\")\n",
    "end"
   ]
  },
  {
   "cell_type": "markdown",
   "metadata": {},
   "source": [
    "## The timer closure\n",
    "\n",
    "Define a function that will take responsibility for stopping the code after the specified time.\n",
    "One thing to note, if the function body finishes before the specified time, we will still have to wait for it."
   ]
  },
  {
   "cell_type": "code",
   "execution_count": 1,
   "metadata": {},
   "outputs": [
    {
     "data": {
      "text/plain": [
       "runFor (generic function with 1 method)"
      ]
     },
     "execution_count": 1,
     "metadata": {},
     "output_type": "execute_result"
    }
   ],
   "source": [
    "function runFor(body::Function, seconds::Int64)\n",
    "    println(\"[DEBUG] Beginning async task\")\n",
    "    task = @async (\n",
    "        try\n",
    "            body()\n",
    "        catch e\n",
    "            if isa(e, InterruptException)\n",
    "                println(\"[DEBUG] InteruptException caught, shutting down\")\n",
    "            else\n",
    "                rethrow(e)\n",
    "            end\n",
    "        end\n",
    "    )\n",
    "    println(\"[DEBUG] Waiting for timer to expire\")\n",
    "    sleep(seconds)\n",
    "    println(\"[DEBUG] Stopping the async task with InteruptException\")\n",
    "    @async Base.throwto(task, InterruptException()) # I'm not sure why, but it doesn't seem to kill the task without @async\n",
    "    println(\"[DEBUG] Exiting\")\n",
    "    return\n",
    "end"
   ]
  },
  {
   "cell_type": "markdown",
   "metadata": {},
   "source": [
    "Now run a block of code inside the closure:"
   ]
  },
  {
   "cell_type": "code",
   "execution_count": 2,
   "metadata": {},
   "outputs": [
    {
     "name": "stdout",
     "output_type": "stream",
     "text": [
      "before the long task\n",
      "[DEBUG] Beginning async task\n",
      "[DEBUG] Waiting for timer to expire\n",
      "running computationally expensive task\n",
      "running computationally expensive task\n",
      "running computationally expensive task\n",
      "running computationally expensive task\n",
      "running computationally expensive task\n",
      "[DEBUG] Stopping the async task with InteruptException\n",
      "[DEBUG] Exiting\n",
      "after the long task\n",
      "before the long task\n",
      "[DEBUG] Beginning async task\n",
      "[DEBUG] Waiting for timer to expire\n",
      "[DEBUG] InteruptException caught, shutting down\n",
      "running computationally expensive task\n",
      "running computationally expensive task\n",
      "running computationally expensive task\n",
      "running computationally expensive task\n",
      "running computationally expensive task\n",
      "[DEBUG] Stopping the async task with InteruptException\n",
      "[DEBUG] Exiting\n",
      "after the long task\n",
      "before the long task\n",
      "[DEBUG] Beginning async task\n",
      "[DEBUG] Waiting for timer to expire\n",
      "[DEBUG] InteruptException caught, shutting down\n",
      "running computationally expensive task\n",
      "running computationally expensive task\n",
      "running computationally expensive task\n",
      "running computationally expensive task\n",
      "running computationally expensive task\n",
      "[DEBUG] Stopping the async task with InteruptException\n",
      "[DEBUG] Exiting\n",
      "after the long task\n",
      "[DEBUG] InteruptException caught, shutting down\n"
     ]
    }
   ],
   "source": [
    "for i = 1:3\n",
    "    println(\"before the long task\")\n",
    "    \n",
    "    runFor(5 #= seconds =#) do\n",
    "        while true\n",
    "            println(\"running computationally expensive task\")\n",
    "            sleep(1)\n",
    "        end\n",
    "    end\n",
    "    \n",
    "    println(\"after the long task\")\n",
    "end"
   ]
  },
  {
   "cell_type": "code",
   "execution_count": null,
   "metadata": {},
   "outputs": [],
   "source": []
  }
 ],
 "metadata": {
  "kernelspec": {
   "display_name": "Julia 1.2.0",
   "language": "julia",
   "name": "julia-1.2"
  },
  "language_info": {
   "file_extension": ".jl",
   "mimetype": "application/julia",
   "name": "julia",
   "version": "1.2.0"
  }
 },
 "nbformat": 4,
 "nbformat_minor": 4
}
