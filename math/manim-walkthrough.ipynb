{
 "cells": [
  {
   "cell_type": "markdown",
   "metadata": {},
   "source": [
    "# Manim Walkthrough\n",
    "\n",
    "_This is just a simple walk through on how to write you manim scenes_"
   ]
  },
  {
   "cell_type": "markdown",
   "metadata": {},
   "source": [
    "## Setup in Jupyter Notebook\n",
    "\n",
    "To be able to use the jupyter-manim `%%manim` cell magic, you must first `import jupyer_manim`.\n",
    "\n",
    "_**Note:** All code inside a cell with the `%%manim` cell magic will be run in it's own process, so you must include everything including applicable imports in that cell. The second paramater to `%%manim` is the class you wish to load. Said class should extend the manim Scene class from `manimlib.imports`._"
   ]
  },
  {
   "cell_type": "code",
   "execution_count": 37,
   "metadata": {},
   "outputs": [],
   "source": [
    "import jupyter_manim"
   ]
  },
  {
   "cell_type": "markdown",
   "metadata": {},
   "source": [
    "## Create a Shape\n",
    "\n",
    "Create a blue circle, and Transform it into a yellow square:"
   ]
  },
  {
   "cell_type": "code",
   "execution_count": 9,
   "metadata": {},
   "outputs": [
    {
     "data": {
      "text/html": [
       "\n",
       "    <video\n",
       "      width=\"854\"\n",
       "      height=\"480\"\n",
       "      autoplay=\"autoplay\"\n",
       "      controls\n",
       "    >\n",
       "        <source src=\"media/videos/tmpfdwvj26q/1440p60/Shapes.mp4\" type=\"video/mp4\">\n",
       "    </video>\n",
       "    "
      ],
      "text/plain": [
       "<IPython.core.display.HTML object>"
      ]
     },
     "execution_count": 9,
     "metadata": {},
     "output_type": "execute_result"
    }
   ],
   "source": [
    "%%manim Shapes\n",
    "from manimlib.imports import *\n",
    "\n",
    "class Shapes(Scene):\n",
    "    def construct(self):\n",
    "        circle = Circle(fill_color=BLUE, color=BLUE, fill_opacity=0.9)\n",
    "        square = Square(fill_color=YELLOW, color=YELLOW, fill_opacity=0.9)\n",
    "        self.play(Transform(circle, square))"
   ]
  },
  {
   "cell_type": "markdown",
   "metadata": {},
   "source": [
    "## Create some Tex\n",
    "\n",
    "Now, create a TeX expression... ***todo***"
   ]
  },
  {
   "cell_type": "markdown",
   "metadata": {},
   "source": [
    "## Morph Shapes/Tex\n",
    "\n",
    "***todo***"
   ]
  },
  {
   "cell_type": "markdown",
   "metadata": {},
   "source": [
    "## Simplify Complex Scenes\n",
    "\n",
    "As your scenes grow, the code can become a little messy. You might wish to move code into other functions or classes, or make complex shapes by extending the existing manim shapes."
   ]
  },
  {
   "cell_type": "markdown",
   "metadata": {},
   "source": [
    "### Complex Shape example"
   ]
  },
  {
   "cell_type": "code",
   "execution_count": 10,
   "metadata": {},
   "outputs": [],
   "source": [
    "# todo"
   ]
  },
  {
   "cell_type": "markdown",
   "metadata": {},
   "source": [
    "## Graph\n",
    "\n",
    "References: \n",
    "- <https://github.com/malhotra5/Manim-Tutorial/blob/master/code/graphing.py>\n",
    "- <https://mathieularose.com/function-composition-in-python/>\n",
    "\n",
    "_Something I noticed: When using `Transform(a, b)`, `a` needs to remain the original thing that was Transformed to begin with._"
   ]
  },
  {
   "cell_type": "code",
   "execution_count": 56,
   "metadata": {},
   "outputs": [
    {
     "data": {
      "text/html": [
       "\n",
       "    <video\n",
       "      width=\"854\"\n",
       "      height=\"480\"\n",
       "      autoplay=\"autoplay\"\n",
       "      controls\n",
       "    >\n",
       "        <source src=\"media/videos/tmp1v17ul_w/1440p60/Graph.mp4\" type=\"video/mp4\">\n",
       "    </video>\n",
       "    "
      ],
      "text/plain": [
       "<IPython.core.display.HTML object>"
      ]
     },
     "execution_count": 56,
     "metadata": {},
     "output_type": "execute_result"
    }
   ],
   "source": [
    "%%manim Graph\n",
    "from manimlib.imports import *\n",
    "import functools\n",
    "\n",
    "# A helper function for recursive function composition\n",
    "# See: https://mathieularose.com/function-composition-in-python/\n",
    "def compose(*functions): \n",
    "    return functools.reduce(lambda f, g: lambda x: f(g(x)), functions, lambda x: x)\n",
    "\n",
    "def f(x): return x**2 # basic quadratic\n",
    "def g(x): return x**3 # basic cubic\n",
    "def h(x): return x**6 # Using this to show g(f(x)) = f(g(x))\n",
    "\n",
    "class Graph(GraphScene):\n",
    "    CONFIG = {\n",
    "        \"x_min\": -5,\n",
    "        \"x_max\": 5,\n",
    "        \"y_min\": -4,\n",
    "        \"y_max\": 4,\n",
    "        \"graph_origin\": ORIGIN,\n",
    "        \"function_color\": WHITE,\n",
    "        \"axes_color\": GRAY\n",
    "    }\n",
    "    \n",
    "    def construct(self):\n",
    "        self.setup_axes(animate=True)\n",
    "        self.play()\n",
    "        \n",
    "        # Draw f(x)\n",
    "        f_graph = self.get_graph(f,RED)\n",
    "        f_label = self.get_graph_label(f_graph, label = \"f(x) = x^{2}\")\n",
    "        self.play(ShowCreation(f_graph), Write(f_label))\n",
    "        self.wait()\n",
    "        \n",
    "        # Draw g(x)\n",
    "        g_graph = self.get_graph(g,GREEN)\n",
    "        g_label = self.get_graph_label(g_graph, label = \"g(x) = x^{3}\")\n",
    "        self.play(Transform(f_graph,g_graph), Transform(f_label, g_label))\n",
    "        self.wait()\n",
    "        \n",
    "        # Draw g(f(x)) or g o f\n",
    "        gof_graph = self.get_graph(compose(g, f),BLUE)\n",
    "        gof_label = self.get_graph_label(gof_graph, label = \"g \\circ f(x) = (x^{2})^{3} = x^{6}\")\n",
    "        self.play(Transform(f_graph, gof_graph), Transform(f_label,gof_label))\n",
    "        self.wait()\n",
    "        \n",
    "        # Draw f(g(x)) or f o g\n",
    "        fog_graph = self.get_graph(compose(f, g),YELLOW)\n",
    "        fog_label = self.get_graph_label(fog_graph, label = \"f \\circ g(x) = (x^{3})^{2} = x^{6}\")\n",
    "        self.play(Transform(f_graph,fog_graph), Transform(f_label,fog_label))\n",
    "        self.wait()\n",
    "        \n",
    "        # Draw h(x)\n",
    "        h_graph = self.get_graph(h,PINK)\n",
    "        h_label = self.get_graph_label(h_graph, label = \"h(x) = x^{6}\")\n",
    "        self.play(Transform(f_graph,h_graph), Transform(f_label,h_label))\n",
    "        self.wait()\n",
    "        \n",
    "\n",
    "        "
   ]
  },
  {
   "cell_type": "code",
   "execution_count": 28,
   "metadata": {},
   "outputs": [
    {
     "name": "stdout",
     "output_type": "stream",
     "text": [
      "Media will be written to ./media/. You can change this behavior with the --media_dir flag.\n",
      "\n",
      "\n",
      "\n",
      "\n",
      "\n",
      "\n",
      "\n"
     ]
    },
    {
     "name": "stderr",
     "output_type": "stream",
     "text": [
      "/usr/local/lib/python3.7/dist-packages/jupyter_manim/__init__.py:259: UserWarning: Could not find path in the manim output\n",
      "  warn('Could not find path in the manim output')\n",
      "/tmp/tmpo5irjo2c.py:15: UserWarning: Import from notebook: name already in the globals(), skipping\n",
      "  warn('Import from notebook: ' + name + ' already in the globals(), skipping')\n",
      "/tmp/tmpo5irjo2c.py:15: UserWarning: Import from notebook: f already in the globals(), skipping\n",
      "  warn('Import from notebook: ' + name + ' already in the globals(), skipping')\n",
      "Traceback (most recent call last):                                         \n",
      "  File \"/usr/local/lib/python3.7/dist-packages/manimlib/extract_scene.py\", line 150, in main\n",
      "    scene = SceneClass(**scene_kwargs)\n",
      "  File \"/usr/local/lib/python3.7/dist-packages/manimlib/scene/scene.py\", line 52, in __init__\n",
      "    self.construct()\n",
      "  File \"/tmp/tmpo5irjo2c.py\", line 41, in construct\n",
      "    func_graph_2=self.get_graph(self.func_to_graph_2,self.function_color)\n",
      "AttributeError: 'Graphing' object has no attribute 'func_to_graph_2'\n",
      "\n"
     ]
    }
   ],
   "source": [
    "%%manim Graphing\n",
    "\n",
    "from manimlib.imports import *\n",
    "#import math\n",
    "\n",
    "class Graphing(GraphScene):\n",
    "    CONFIG = {\n",
    "        \"x_min\": -5,\n",
    "        \"x_max\": 5,\n",
    "        \"y_min\": -4,\n",
    "        \"y_max\": 4,\n",
    "        \"graph_origin\": ORIGIN,\n",
    "        \"function_color\": WHITE,\n",
    "        \"axes_color\": BLUE\n",
    "    }\n",
    "\n",
    "    def construct(self):\n",
    "        #Make graph\n",
    "        self.setup_axes(animate=True)\n",
    "        func_graph=self.get_graph(self.func_to_graph,self.function_color)\n",
    "        graph_lab = self.get_graph_label(func_graph, label = \"x^{2}\")\n",
    "\n",
    "        func_graph_2=self.get_graph(self.func_to_graph_2,self.function_color)\n",
    "        graph_lab_2 = self.get_graph_label(func_graph_2, label = \"x^{3}\")\n",
    "\n",
    "        vert_line = self.get_vertical_line_to_graph(1,func_graph,color=YELLOW)\n",
    "\n",
    "        x = self.coords_to_point(1, self.func_to_graph(1))\n",
    "        y = self.coords_to_point(0, self.func_to_graph(1))\n",
    "        horz_line = Line(x,y, color=YELLOW)\n",
    "\n",
    "        point = Dot(self.coords_to_point(1,self.func_to_graph(1)))\n",
    "\n",
    "        #Display graph\n",
    "        self.play(ShowCreation(func_graph), Write(graph_lab))\n",
    "        self.wait(1)\n",
    "        self.play(ShowCreation(vert_line))\n",
    "        self.play(ShowCreation(horz_line))\n",
    "        self.add(point)\n",
    "        self.wait(1)\n",
    "        self.play(Transform(func_graph, func_graph_2), Transform(graph_lab, graph_lab_2))\n",
    "        self.wait(2)\n",
    "\n",
    "\n",
    "    def func_to_graph(self, x):\n",
    "        return (x**2)\n",
    "\n",
    "def func_to_graph_2(x):\n",
    "    return(x**3)"
   ]
  },
  {
   "cell_type": "code",
   "execution_count": null,
   "metadata": {},
   "outputs": [],
   "source": []
  }
 ],
 "metadata": {
  "kernelspec": {
   "display_name": "Python 3",
   "language": "python",
   "name": "python3"
  },
  "language_info": {
   "codemirror_mode": {
    "name": "ipython",
    "version": 3
   },
   "file_extension": ".py",
   "mimetype": "text/x-python",
   "name": "python",
   "nbconvert_exporter": "python",
   "pygments_lexer": "ipython3",
   "version": "3.7.5"
  }
 },
 "nbformat": 4,
 "nbformat_minor": 4
}
