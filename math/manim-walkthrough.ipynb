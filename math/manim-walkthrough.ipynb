{
 "cells": [
  {
   "cell_type": "markdown",
   "metadata": {},
   "source": [
    "# Manim Walkthrough\n",
    "\n",
    "_This is just a simple walk through on how to write you manim scenes_"
   ]
  },
  {
   "cell_type": "markdown",
   "metadata": {},
   "source": [
    "## Setup in Jupyter Notebook\n",
    "\n",
    "To be able to use the jupyter-manim `%%manim` cell magic, you must first `import jupyer_manim`.\n",
    "\n",
    "_**Note:** All code inside a cell with the `%%manim` cell magic will be run in it's own process, so you must include everything including applicable imports in that cell. The second paramater to `%%manim` is the class you wish to load. Said class should extend the manim Scene class from `manimlib.imports`._"
   ]
  },
  {
   "cell_type": "code",
   "execution_count": 2,
   "metadata": {},
   "outputs": [],
   "source": [
    "import jupyter_manim"
   ]
  },
  {
   "cell_type": "markdown",
   "metadata": {},
   "source": [
    "## Create a Shape\n",
    "\n",
    "Create a blue circle, and Transform it into a yellow square:"
   ]
  },
  {
   "cell_type": "code",
   "execution_count": 4,
   "metadata": {},
   "outputs": [
    {
     "data": {
      "text/html": [
       "\n",
       "    <img\n",
       "      width=\"854\"\n",
       "      height=\"480\"\n",
       "      src=\"media/videos/tmp6v6yp2wl/1440p60/Shapes.gif\"\n",
       "    >\n",
       "    "
      ],
      "text/plain": [
       "<IPython.core.display.HTML object>"
      ]
     },
     "execution_count": 4,
     "metadata": {},
     "output_type": "execute_result"
    }
   ],
   "source": [
    "%%manim Shapes -i\n",
    "from manimlib.imports import *\n",
    "\n",
    "class Shapes(Scene):\n",
    "    def construct(self):\n",
    "        circle = Circle(fill_color=BLUE, color=BLUE, fill_opacity=0.9)\n",
    "        square = Square(fill_color=YELLOW, color=YELLOW, fill_opacity=0.9)\n",
    "        self.play(Transform(circle, square))"
   ]
  },
  {
   "cell_type": "markdown",
   "metadata": {},
   "source": [
    "## Create some Tex\n",
    "\n",
    "Now, create a TeX expression... ***todo***"
   ]
  },
  {
   "cell_type": "markdown",
   "metadata": {},
   "source": [
    "## Move Shapes/Tex\n",
    "\n",
    "There look to be a number of ways to move objects. `Mobject` has a number of transformation methods. For example:\n",
    "- [`shift`](https://github.com/3b1b/manim/blob/48f2a1ec3c86f3ad26b6b1292b6917149005cbab/manimlib/mobject/mobject.py#L231)\n",
    "- [`next_to`](https://github.com/3b1b/manim/blob/48f2a1ec3c86f3ad26b6b1292b6917149005cbab/manimlib/mobject/mobject.py#L404)"
   ]
  },
  {
   "cell_type": "code",
   "execution_count": 5,
   "metadata": {},
   "outputs": [
    {
     "data": {
      "text/html": [
       "\n",
       "    <img\n",
       "      width=\"854\"\n",
       "      height=\"480\"\n",
       "      src=\"media/videos/tmpaz6p5245/1440p60/Move.gif\"\n",
       "    >\n",
       "    "
      ],
      "text/plain": [
       "<IPython.core.display.HTML object>"
      ]
     },
     "execution_count": 5,
     "metadata": {},
     "output_type": "execute_result"
    }
   ],
   "source": [
    "%%manim Move -i\n",
    "from manimlib.imports import *\n",
    "\n",
    "class Move(Scene):\n",
    "    def construct(self):\n",
    "        square = Square(fill_color=YELLOW, color=YELLOW, fill_opacity=0.9)\n",
    "        self.play(ShowCreation(square))\n",
    "        self.play(ApplyMethod(square.shift, (3,0,0)))\n",
    "        self.wait()\n",
    "        \n",
    "        circle = Circle(fill_color=BLUE, color=BLUE, fill_opacity=0.9)\n",
    "        self.play(ShowCreation(circle))\n",
    "        self.play(ApplyMethod(circle.next_to, square))\n",
    "        self.wait()"
   ]
  },
  {
   "cell_type": "markdown",
   "metadata": {},
   "source": [
    "## Simplify Complex Scenes\n",
    "\n",
    "As your scenes grow, the code can become a little messy. You might wish to move code into other functions or classes, or make complex shapes by extending the existing manim shapes."
   ]
  },
  {
   "cell_type": "markdown",
   "metadata": {},
   "source": [
    "### Complex Shape example"
   ]
  },
  {
   "cell_type": "code",
   "execution_count": 59,
   "metadata": {},
   "outputs": [],
   "source": [
    "# todo"
   ]
  },
  {
   "cell_type": "markdown",
   "metadata": {},
   "source": [
    "## Graph\n",
    "\n",
    "References: \n",
    "- <https://github.com/malhotra5/Manim-Tutorial/blob/master/code/graphing.py>\n",
    "- <https://mathieularose.com/function-composition-in-python/>\n",
    "\n",
    "_Something I noticed: When using `Transform(a, b)`, `a` needs to remain the original thing that was Transformed to begin with._"
   ]
  },
  {
   "cell_type": "code",
   "execution_count": 6,
   "metadata": {},
   "outputs": [
    {
     "data": {
      "text/html": [
       "\n",
       "    <img\n",
       "      width=\"854\"\n",
       "      height=\"480\"\n",
       "      src=\"media/videos/tmp7nk8uj8p/1440p60/Graph.gif\"\n",
       "    >\n",
       "    "
      ],
      "text/plain": [
       "<IPython.core.display.HTML object>"
      ]
     },
     "execution_count": 6,
     "metadata": {},
     "output_type": "execute_result"
    }
   ],
   "source": [
    "%%manim Graph -i\n",
    "from manimlib.imports import *\n",
    "import functools\n",
    "\n",
    "# A helper function for recursive function composition\n",
    "# See: https://mathieularose.com/function-composition-in-python/\n",
    "def compose(*functions): \n",
    "    return functools.reduce(lambda f, g: lambda x: f(g(x)), functions, lambda x: x)\n",
    "\n",
    "def f(x): return x**2 # basic quadratic\n",
    "def g(x): return x**3 # basic cubic\n",
    "def h(x): return x**6 # Using this to show g(f(x)) = f(g(x))\n",
    "\n",
    "class Graph(GraphScene):\n",
    "    CONFIG = {\n",
    "        \"x_min\": -5,\n",
    "        \"x_max\": 5,\n",
    "        \"y_min\": -4,\n",
    "        \"y_max\": 4,\n",
    "        \"graph_origin\": ORIGIN,\n",
    "        \"function_color\": WHITE,\n",
    "        \"axes_color\": GRAY\n",
    "    }\n",
    "    \n",
    "    def construct(self):\n",
    "        self.setup_axes(animate=True)\n",
    "        self.play()\n",
    "        \n",
    "        # Draw f(x)\n",
    "        f_graph = self.get_graph(f,RED)\n",
    "        f_label = self.get_graph_label(f_graph, label = \"f(x) = x^{2}\")\n",
    "        self.play(ShowCreation(f_graph), Write(f_label))\n",
    "        self.wait()\n",
    "        \n",
    "        # Draw g(x)\n",
    "        g_graph = self.get_graph(g,GREEN)\n",
    "        g_label = self.get_graph_label(g_graph, label = \"g(x) = x^{3}\")\n",
    "        self.play(Transform(f_graph,g_graph), Transform(f_label, g_label))\n",
    "        self.wait()\n",
    "        \n",
    "        # Draw g(f(x)) or g o f\n",
    "        gof_graph = self.get_graph(compose(g, f),BLUE)\n",
    "        gof_label = self.get_graph_label(gof_graph, label = \"g \\circ f(x) = (x^{2})^{3} = x^{6}\")\n",
    "        self.play(Transform(f_graph, gof_graph), Transform(f_label,gof_label))\n",
    "        self.wait()\n",
    "        \n",
    "        # Draw f(g(x)) or f o g\n",
    "        fog_graph = self.get_graph(compose(f, g),YELLOW)\n",
    "        fog_label = self.get_graph_label(fog_graph, label = \"f \\circ g(x) = (x^{3})^{2} = x^{6}\")\n",
    "        self.play(Transform(f_graph,fog_graph), Transform(f_label,fog_label))\n",
    "        self.wait()\n",
    "        \n",
    "        # Draw h(x)\n",
    "        h_graph = self.get_graph(h,PINK)\n",
    "        h_label = self.get_graph_label(h_graph, label = \"h(x) = x^{6}\")\n",
    "        self.play(Transform(f_graph,h_graph), Transform(f_label,h_label))\n",
    "        self.wait()\n",
    "        \n",
    "\n",
    "        "
   ]
  }
 ],
 "metadata": {
  "kernelspec": {
   "display_name": "Python 3",
   "language": "python",
   "name": "python3"
  },
  "language_info": {
   "codemirror_mode": {
    "name": "ipython",
    "version": 3
   },
   "file_extension": ".py",
   "mimetype": "text/x-python",
   "name": "python",
   "nbconvert_exporter": "python",
   "pygments_lexer": "ipython3",
   "version": "3.7.5"
  }
 },
 "nbformat": 4,
 "nbformat_minor": 4
}
